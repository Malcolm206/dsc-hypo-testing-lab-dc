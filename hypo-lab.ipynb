{
 "cells": [
  {
   "cell_type": "markdown",
   "metadata": {},
   "source": [
    "# Hypothesis testing lab\n",
    "\n",
    "Basically, more practice w/ formulating and calculating hypothesis tests\n",
    "\n",
    "- Set up null / alternative hypothesis\n",
    "- Specify appropriate statistical test\n",
    "- Choose significance level\n",
    "- Determine critical value of test statistic\n",
    "- Calculate observed value of test statistic / p-value\n",
    "- Make a decision to reject the null hypothesis or fail to reject the null hypothesis"
   ]
  },
  {
   "cell_type": "markdown",
   "metadata": {},
   "source": [
    "## Recall basic idea\n",
    "\n",
    "![](img/sampling-dist.jpg)\n",
    "\n",
    "![](img/alpha_regions.jpg)\n",
    "\n",
    "How do we know this works?"
   ]
  },
  {
   "cell_type": "markdown",
   "metadata": {},
   "source": []
  },
  {
   "cell_type": "markdown",
   "metadata": {},
   "source": [
    "## Practice 1"
   ]
  },
  {
   "cell_type": "markdown",
   "metadata": {},
   "source": [
    "Suppose we are told that African elephants have weights distributed normally around a mean of 9000 lbs., with a standard deviation of 900 lbs. \n",
    "\n",
    "Pachyderm Adventures has recently measured the weights of 40 African elephants in Gabon and has calculated their average weight at 8637 lbs. \n",
    "\n",
    "They claim that these statistics on the Gabonese elephants are significant. How can we test that?"
   ]
  },
  {
   "cell_type": "markdown",
   "metadata": {},
   "source": [
    "- Null / Alt hypothesis"
   ]
  },
  {
   "cell_type": "code",
   "execution_count": null,
   "metadata": {},
   "outputs": [],
   "source": []
  },
  {
   "cell_type": "markdown",
   "metadata": {},
   "source": [
    "- Correct stat test\n",
    "![](img/z_or_t_test.png)"
   ]
  },
  {
   "cell_type": "markdown",
   "metadata": {},
   "source": [
    "- Choose sig level"
   ]
  },
  {
   "cell_type": "code",
   "execution_count": null,
   "metadata": {},
   "outputs": [],
   "source": []
  },
  {
   "cell_type": "markdown",
   "metadata": {},
   "source": [
    "- Determine critical value of test statistic"
   ]
  },
  {
   "cell_type": "code",
   "execution_count": 1,
   "metadata": {},
   "outputs": [
    {
     "name": "stdout",
     "output_type": "stream",
     "text": [
      "26\n",
      "0.026\n"
     ]
    }
   ],
   "source": [
    "import numpy as np\n",
    "\n",
    "sample_means = []\n",
    "\n",
    "for _ in range(1000):\n",
    "    s_mean = np.random.normal(9000, 900, 40).mean()\n",
    "    sample_means.append(s_mean)\n",
    "    \n",
    "less_than_sample_count = 0\n",
    "for mean in range(0,1000):\n",
    "    if mean /1000 <= .025:\n",
    "        less_than_sample_count += 1\n",
    "\n",
    "print(less_than_sample_count)"
   ]
  },
  {
   "cell_type": "markdown",
   "metadata": {},
   "source": [
    "- Calculate observed statistic\n",
    "\n",
    "$z = \\large\\dfrac{{\\bar{x}} - \\mu_{0}}{\\dfrac{\\sigma}{\\sqrt{n}}}$"
   ]
  },
  {
   "cell_type": "code",
   "execution_count": null,
   "metadata": {},
   "outputs": [],
   "source": []
  },
  {
   "cell_type": "markdown",
   "metadata": {},
   "source": [
    "### Practice 2\n",
    "\n",
    "A group of football players is being tested for a new training regimen to see if the number of squat reps they can achieve at twice their body weight is siginificantly larger than the population of football players as a whole.\n",
    "\n",
    "On average for football players, the number of squat reps at 2x body weight is 13.5, with a standard deviation of 3.5 reps. They find that the **20** athletes that were given a new training regimen have an average of 17 reps with a standard deviation of 4. \n",
    "\n",
    "Is this increased rep count a result of offering the new training regimen rather than chance occurrence?"
   ]
  },
  {
   "cell_type": "markdown",
   "metadata": {},
   "source": [
    "1. Set up null and alternative hypotheses\n",
    "\n",
    "2. Specify the appropriate statistical test\n",
    "\n",
    "3. Choose a significance level (alpha)\n",
    "\n",
    "4. Determine the critical value of test statistic\n",
    "\n",
    "5. Calculate the observed value of the test statistic and the p-value.\n",
    "\n",
    "6. Make a decision (reject or fail to reject) regarding the Null Hypothesis by comparing the observed value of the test-statistic with critical value."
   ]
  },
  {
   "cell_type": "code",
   "execution_count": null,
   "metadata": {},
   "outputs": [],
   "source": []
  },
  {
   "cell_type": "code",
   "execution_count": null,
   "metadata": {},
   "outputs": [],
   "source": []
  },
  {
   "cell_type": "code",
   "execution_count": null,
   "metadata": {},
   "outputs": [],
   "source": [
    "stats.ttest_ind(ath_1, ath_2, equal_var = False)"
   ]
  },
  {
   "cell_type": "markdown",
   "metadata": {},
   "source": [
    "just use scipy, but under the hood know what the critical t-stat is being calculated by:\n",
    "\n",
    "$$ t = \\frac{\\bar{x} - \\mu}{s/\\sqrt{n}} $$ Here, $s$ is the sample standard deviation, which is used to estimate the population standard deviation, and $\\mu$ is the population mean.  "
   ]
  },
  {
   "cell_type": "markdown",
   "metadata": {},
   "source": [
    "### Practice 3"
   ]
  },
  {
   "cell_type": "markdown",
   "metadata": {},
   "source": [
    "Now, we have *two* training regimens that two separate groups of athletes are exposed to, and we'd like to see if the differences in those training regimens differ *from each other*"
   ]
  },
  {
   "cell_type": "code",
   "execution_count": 16,
   "metadata": {},
   "outputs": [],
   "source": [
    "ath_1 = [22, 16, 26, 29, 14, 10, 23, 20, 17, 19, 27, 22, 15, 21, 24, 9, 29, 22, 19, 16]\n",
    "\n",
    "ath_2 =[12, 14, 11, 22, 13, 17, 15, 20, 15, 13, 15, 14, 12, 14, 15, 16, 17, 14, 21, 10]"
   ]
  },
  {
   "cell_type": "markdown",
   "metadata": {},
   "source": [
    "- Set up null / alternative hypothesis\n",
    "- Specify appropriate statistical test\n",
    "- Choose significance level\n",
    "- Determine critical value of test statistic\n",
    "- Calculate observed value of test statistic / p-value\n",
    "- Make a decision to reject the null hypothesis or fail to reject the null hypothesis"
   ]
  },
  {
   "cell_type": "code",
   "execution_count": 19,
   "metadata": {},
   "outputs": [
    {
     "data": {
      "text/plain": [
       "Ttest_indResult(statistic=3.4460121880225554, pvalue=0.0017145173335991134)"
      ]
     },
     "execution_count": 19,
     "metadata": {},
     "output_type": "execute_result"
    }
   ],
   "source": [
    "from scipy import stats\n",
    "\n",
    "stats.ttest_ind(ath_1, ath_2, equal_var = False)"
   ]
  },
  {
   "cell_type": "code",
   "execution_count": null,
   "metadata": {},
   "outputs": [],
   "source": []
  },
  {
   "cell_type": "code",
   "execution_count": null,
   "metadata": {},
   "outputs": [],
   "source": []
  }
 ],
 "metadata": {
  "kernelspec": {
   "display_name": "learn-env",
   "language": "python",
   "name": "learn-env"
  },
  "language_info": {
   "codemirror_mode": {
    "name": "ipython",
    "version": 3
   },
   "file_extension": ".py",
   "mimetype": "text/x-python",
   "name": "python",
   "nbconvert_exporter": "python",
   "pygments_lexer": "ipython3",
   "version": "3.7.4"
  }
 },
 "nbformat": 4,
 "nbformat_minor": 4
}
